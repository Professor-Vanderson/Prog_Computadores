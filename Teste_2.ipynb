{
  "nbformat": 4,
  "nbformat_minor": 0,
  "metadata": {
    "colab": {
      "name": "Teste 2.ipynb",
      "provenance": [],
      "authorship_tag": "ABX9TyNe71l1KrMe4ohWQSCSZe9p",
      "include_colab_link": true
    },
    "kernelspec": {
      "name": "python3",
      "display_name": "Python 3"
    }
  },
  "cells": [
    {
      "cell_type": "markdown",
      "metadata": {
        "id": "view-in-github",
        "colab_type": "text"
      },
      "source": [
        "<a href=\"https://colab.research.google.com/github/profa-katiabossi/Prog_Computadores/blob/main/Teste_2.ipynb\" target=\"_parent\"><img src=\"https://colab.research.google.com/assets/colab-badge.svg\" alt=\"Open In Colab\"/></a>"
      ]
    },
    {
      "cell_type": "code",
      "metadata": {
        "colab": {
          "base_uri": "https://localhost:8080/"
        },
        "id": "sMkoax5ZewK8",
        "outputId": "6dea440a-70e4-43cd-96dc-16e88e9fc846"
      },
      "source": [
        "print(\"Teste 2\")"
      ],
      "execution_count": 1,
      "outputs": [
        {
          "output_type": "stream",
          "text": [
            "Teste 2\n"
          ],
          "name": "stdout"
        }
      ]
    }
  ]
}